{
 "cells": [
  {
   "cell_type": "markdown",
   "metadata": {},
   "source": [
    "# Understanding Streamlit applications (Part 1)\n",
    "\n",
    "## Installing Streamlit\n",
    "\n",
    "This document assumes that you have downloaded and installed:\n",
    " - latest version of python: (Link: https://www.python.org/downloads/ )\n",
    " - a python IDE like Visual Studio Code: (Link: https://code.visualstudio.com/ )\n",
    "\n",
    "In order to run Streamlit applications, you will need to download the **Streamlit package** using:<br>\n",
    "<br>\n",
    "`pip install streamlit`                                                 \n",
    "\n",
    "<br />\n",
    "<br />\n",
    "<br />\n",
    "\n",
    "## Check Streamlit version\n",
    "Check the successful installation of Streamlit by identifying the version in a terminal window or command prompt.<br />\n",
    "\n",
    "\n",
    "`> streamlit --version`<br>\n",
    "`Streamlit, version 1.13.0`\n",
    "\n",
    "\n",
    "Now that Streamlit is installed, let us create a very simple app to test it out.<br />\n",
    "It is best to create a directory for all of your steamlit apps. This will help you out later on.<br />\n",
    "<br />\n",
    "<br />\n",
    "\n",
    "## Creating your first Streamlit App\n",
    "\n",
    "Select your **streamlit folder**, and create a new python file called `hello_world.py` <br>\n",
    "Copy and paste the following code into the python file:\n"
   ]
  },
  {
   "cell_type": "code",
   "execution_count": null,
   "metadata": {},
   "outputs": [],
   "source": [
    "# ----------------------------------------------------------------------------------\n",
    "# Program name : hello_world.py\n",
    "#       Author : Scott C\n",
    "#  Code Source : https://github.com/Scott-Collier/Streamlit_Learning/blob/main/streamlit_learning.ipynb\n",
    "# ----------------------------------------------------------------------------------\n",
    "import streamlit as st\n",
    "\n",
    "st.title(\"My First StreamLit App\")  # create large title text\n",
    "st.write(\"Hello world !\")           # like a print statement - will print normal text"
   ]
  },
  {
   "cell_type": "markdown",
   "metadata": {},
   "source": [
    "## Running your StreamLit app\n",
    "\n",
    "Save the file, and then open a **terminal window** or **command prompt**.<br>\n",
    "Within the command window, navigate to your streamlit folder containing the `hello_world.py` file.<br>\n",
    "And then type the following command:<br>\n",
    "\n",
    "`> streamlit run hello_world.py`\n",
    "\n",
    "<br>\n",
    "You should see a message like the following in your command window:<br>\n",
    "<br>\n",
    "\n",
    "```\n",
    "You can now view your Streamlit app in your browser.\n",
    "\n",
    "Local URL: http://localhost:8501\n",
    "Network URL: http://192.168.1.79:8501\n",
    "\n",
    "```\n",
    "\n",
    "<br>\n",
    "<br>\n",
    "\n",
    "A browser window should open automatically at the URL indicated above and look like the following:<br>\n",
    "\n",
    "![\"Streamlit\"](images/first_streamlit_app.png)\n",
    "\n"
   ]
  },
  {
   "cell_type": "markdown",
   "metadata": {},
   "source": [
    "<br>\n",
    "<br>\n",
    "\n",
    "## Streamlit widgets\n",
    "\n",
    "In the next section, I will describe a variety of widgets to choose from. <br>\n",
    "\n",
    "### Text based widgets\n",
    "These widgets are designed to place text on the page"
   ]
  },
  {
   "cell_type": "code",
   "execution_count": null,
   "metadata": {},
   "outputs": [],
   "source": [
    "import streamlit as st\n",
    "\n",
    "st.title(\"Large title text\")       # used for page titles and other title text\n",
    "st.markdown(\"## This is markdown\") # insert any markdown\n",
    "st.subheader(\"Medium text\")        # used for medium text and subheaders\n",
    "st.write(\"Normal text\")            # used to print normal text to the webpage\n",
    "st.caption(\"This is a caption\")    # Create captions\n",
    "st.code(\"Display code\")            # For displaying code on the page\n"
   ]
  },
  {
   "cell_type": "markdown",
   "metadata": {},
   "source": [
    "![\"Streamlit text widgets\"](images/text_widgets.png)"
   ]
  },
  {
   "cell_type": "markdown",
   "metadata": {},
   "source": [
    "<br>\n",
    "<br>\n",
    "\n",
    "### Input Widgets\n",
    "Can be used to get information from the audience."
   ]
  },
  {
   "cell_type": "markdown",
   "metadata": {},
   "source": [
    "\n",
    "### Buttons, Checkboxes, Radio Buttons, Dropdowns\n",
    "- **Buttons** (`st.button`) are often used to trigger an event. These events can be used to control the flow of your code.<br>\n",
    "- **Checkbox** (`st.checkbox`) is useful when you want to receive binary answers like \"Yes\" or \"No\". <br>\n",
    "- **Radio buttons** (`st.radio`) are normally used to select one option out of a group. <br>\n",
    "- **Selectbox** (`st.selectbox`) is similar to radio buttons however in a dropdown selection format. Often more compact. <br>\n",
    "- **Multiselect** (`st.multiselect`) is similar to a selectbox, but allows you to choose more that one answer.<br>\n",
    "<br>\n",
    "Let's see what they look like below:"
   ]
  },
  {
   "cell_type": "code",
   "execution_count": null,
   "metadata": {},
   "outputs": [],
   "source": [
    "import streamlit as st\n",
    "\n",
    "# 1. Checkboxes, radio buttons and dropdowns\n",
    "st.button('Click this Button')                                      # Buttons - to receive click events\n",
    "st.checkbox('Are you lonely?')                                      # Checkbox (for yes/no answers)\n",
    "st.radio('Pick a fruit',['Apple','Banana', 'Cherry'])               # Selection from a small list\n",
    "st.selectbox('Choose a colour',['Red','Blue','Yellow'])             # Selection from a larger list\n",
    "st.multiselect('Choose a planet',['Mercury', 'Venus', 'Neptune'])   # Allow multiple selections\n"
   ]
  },
  {
   "cell_type": "markdown",
   "metadata": {},
   "source": [
    "\n",
    "![\"Buttons\"](images/buttons.png)"
   ]
  },
  {
   "cell_type": "markdown",
   "metadata": {},
   "source": [
    "<br>\n",
    "<br>\n",
    "\n",
    "### Sliders\n",
    "Sliders are nice way to get a single answer for\n",
    " -  `st.select_slider` : **categorical** values\n",
    " -  `st.slider` : **discrete numeric** / **ordinal** values"
   ]
  },
  {
   "cell_type": "code",
   "execution_count": null,
   "metadata": {},
   "outputs": [],
   "source": [
    "import streamlit as st\n",
    "\n",
    "# 2. Sliders\n",
    "st.select_slider('Pick a mark', ['Bad', 'Good', 'Excellent'])       # Choose categorical options from a slider\n",
    "st.slider('Pick a number', 0,50)                                    # Choose a number from a specified range using a slider "
   ]
  },
  {
   "cell_type": "markdown",
   "metadata": {},
   "source": [
    "\n",
    "![\"Sliders\"](images/sliders.png)"
   ]
  },
  {
   "cell_type": "markdown",
   "metadata": {},
   "source": [
    "<br>\n",
    "<br>\n",
    "\n",
    "### Number and Text Inputs\n",
    "- `st.number_input` : is useful for selecting a number within a range\n",
    "- `st.text_input` : is good for requesting text answers like emails, names etc.\n",
    "- `st.text_area` : allows for more lengthy text answers. The text area can be expanded in real time."
   ]
  },
  {
   "cell_type": "code",
   "execution_count": null,
   "metadata": {},
   "outputs": [],
   "source": [
    "import streamlit as st\n",
    "\n",
    "# 3. Number and text inputs\n",
    "st.number_input('Pick a number', 0,10)                              # Pick a number within a range\n",
    "st.text_input('Email address')                                      # Request user text\n",
    "st.text_area('Description')                                         # Request longer text"
   ]
  },
  {
   "cell_type": "markdown",
   "metadata": {},
   "source": [
    "![\"Text Input\"](images/text_input.png)"
   ]
  },
  {
   "cell_type": "markdown",
   "metadata": {},
   "source": [
    "<br>\n",
    "<br>\n",
    "\n",
    "### Date / Time selectors\n",
    "These widgets are good for requesting a date or time\n",
    "- `st.date_input`: Request a **date** from a calendar widget\n",
    "- `st.time_input`: Request a **time** from a drop-down box"
   ]
  },
  {
   "cell_type": "code",
   "execution_count": null,
   "metadata": {},
   "outputs": [],
   "source": [
    "import streamlit as st\n",
    "\n",
    "# 4. Date / Time selectors\n",
    "st.date_input('Travelling date')                                    # Request a date\n",
    "st.time_input('School time')                                        # Request a time"
   ]
  },
  {
   "cell_type": "markdown",
   "metadata": {},
   "source": [
    "![\"Date and Time\"](images/date_time.png)"
   ]
  },
  {
   "cell_type": "markdown",
   "metadata": {},
   "source": [
    "<br>\n",
    "<br>\n",
    "\n",
    "### Selecting Files\n",
    "If you require someone to upload a file from their computer. You can use a\n",
    " - `st.file_uploader`: to request a file of a specified extension"
   ]
  },
  {
   "cell_type": "code",
   "execution_count": null,
   "metadata": {},
   "outputs": [],
   "source": [
    "import streamlit as st\n",
    "\n",
    "# 5. Select Files\n",
    "st.file_uploader('Upload a file', type=['jpg', 'png', 'pdf'])       # Request a file of specified extension"
   ]
  },
  {
   "cell_type": "markdown",
   "metadata": {},
   "source": [
    "![\"File Uploader\"](images/file_chooser.png)"
   ]
  },
  {
   "cell_type": "markdown",
   "metadata": {},
   "source": [
    "<br>\n",
    "<br>\n",
    "\n",
    "### Choosing colours \n",
    "When you need someone to pick a specific colour from a colour-picker widget.\n",
    "- `st.color_picker`: Pick a colour"
   ]
  },
  {
   "cell_type": "code",
   "execution_count": null,
   "metadata": {},
   "outputs": [],
   "source": [
    "import streamlit as st\n",
    "\n",
    "# 6. Choose a colour\n",
    "st.color_picker('Choose your favorite color')                       # Colour picker"
   ]
  },
  {
   "cell_type": "markdown",
   "metadata": {},
   "source": [
    "![\"Colour picker\"](images/colour_picker.png)"
   ]
  },
  {
   "cell_type": "markdown",
   "metadata": {},
   "source": [
    "<br>\n",
    "<br>\n",
    "<hr>\n",
    "<br>\n",
    "<br>\n",
    "\n",
    "# A Small Program\n",
    "\n",
    "Let us now use a few of these widgets to create a relatively useless program.<br>\n",
    "Create a new **python file** and name it: `little_program.py`<br>\n",
    "<br>\n",
    "\n",
    "### Program specifications\n",
    "Create a program that retrieves and displays a person's :\n",
    " - name\n",
    " - age\n",
    " - favourite colour\n",
    " - and whether they play a sport or not\n",
    "\n",
    " Display their choices back to them:\n",
    "  - only after they press a `SUBMIT` button\n",
    "  - and in their favourite colour\n",
    "  \n",
    "If the person is over 50 years old, write the message: \"You're an oldy but a goody!\"<br>\n",
    "otherwise write the message: \"You are but a spring chicken!!\"<br>\n",
    "<br>\n",
    "\n",
    "### Code\n",
    "Here is the code for that program:<br>"
   ]
  },
  {
   "cell_type": "code",
   "execution_count": null,
   "metadata": {},
   "outputs": [],
   "source": [
    "import streamlit as st\n",
    "\n",
    "# Set the title and explanation text\n",
    "st.title (\"A Small Program\")\n",
    "st.write(\"Answer the questions below and then press the SUBMIT button\")\n",
    "\n",
    "\"---\"  # <hr>\n",
    "\n",
    "# Get person's name\n",
    "person_name = st.text_input(\"What is your name?\")\n",
    "\n",
    "# Get person's age\n",
    "age = st.number_input(\"What is your age?\", \n",
    "        min_value=0, \n",
    "        max_value=110,\n",
    "        value=25)\n",
    "\n",
    "# Find out if they play sport\n",
    "sport = st.checkbox(\"Do you play a sport?\")\n",
    "\n",
    "# Retrieve their favourite colour\n",
    "colour = st.color_picker('Choose your favorite color')\n",
    "\n",
    "# Create the SUBMIT button\n",
    "submit_button = st.button('SUBMIT')\n",
    "\n",
    "# Perform actions after Submit button is pressed.\n",
    "if submit_button:\n",
    "    st.markdown(f'<p style=\"color:{colour};\"> Hello {person_name}, </p>', unsafe_allow_html=True)\n",
    "    st.markdown(f'<p style=\"color:{colour};\"> I see that you are {age} years old. </p>', unsafe_allow_html=True)\n",
    "\n",
    "    # Write message depending on person's age\n",
    "    if age>50:\n",
    "        msg = \"You're an oldy but a goody!\"\n",
    "    else:\n",
    "        msg = \"You are but a spring chicken!!\"\n",
    "        \n",
    "    st.markdown(f'<p style=\"color:{colour};\"> {msg} </p>', unsafe_allow_html=True)\n",
    "\n",
    "\n",
    "    # Write message depending on whether they play sport\n",
    "    if sport:\n",
    "        sport_msg = \"I see you play sport.\"\n",
    "    else:\n",
    "        sport_msg = \"I see you do not play sport.\"\n",
    "\n",
    "    st.markdown(f'<p style=\"color:{colour};\"> {sport_msg} </p>', unsafe_allow_html=True)"
   ]
  },
  {
   "cell_type": "markdown",
   "metadata": {},
   "source": [
    "This is the screen, before the SUBMIT button was pressed.\n",
    "\n",
    "![\"Before Submit\"](images/before_submit.png)"
   ]
  },
  {
   "cell_type": "markdown",
   "metadata": {},
   "source": [
    "<br>\n",
    "<br>\n",
    "\n",
    "The screen AFTER the SUBMIT button was pressed.\n",
    "\n",
    "![\"After Submit\"](images/after_submit.png)"
   ]
  },
  {
   "cell_type": "markdown",
   "metadata": {},
   "source": [
    "Note that the text was printed out after the Submit button was pressed, and that it was in their favourite colour. <br>\n",
    "The text that was displayed was dependent on the state of the input widgets.<br>\n",
    "<br>"
   ]
  }
 ],
 "metadata": {
  "kernelspec": {
   "display_name": "Python 3.11.0 64-bit",
   "language": "python",
   "name": "python3"
  },
  "language_info": {
   "codemirror_mode": {
    "name": "ipython",
    "version": 3
   },
   "file_extension": ".py",
   "mimetype": "text/x-python",
   "name": "python",
   "nbconvert_exporter": "python",
   "pygments_lexer": "ipython3",
   "version": "3.11.0"
  },
  "orig_nbformat": 4,
  "vscode": {
   "interpreter": {
    "hash": "c7571ccbbab61bad15311390113eb68c8ef88f1ee35741b8bafdf0401dbfa8b6"
   }
  }
 },
 "nbformat": 4,
 "nbformat_minor": 2
}
