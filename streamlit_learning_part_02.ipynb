{
 "cells": [
  {
   "cell_type": "markdown",
   "metadata": {},
   "source": [
    "# Understanding Streamlit (Part 2)\n",
    "\n",
    "## Layout components\n",
    "\n",
    "Layout components help to position your widgets on your page, or help with the page design.\n",
    "\n",
    "### Sidebar\n",
    "As the name suggests, this layout component allows you to place widgets into the sidebar.\n"
   ]
  },
  {
   "cell_type": "code",
   "execution_count": null,
   "metadata": {},
   "outputs": [],
   "source": [
    "import streamlit as st\n",
    "\n",
    "st.sidebar.title(\"Please press the submit button\")\n",
    "submit = st.sidebar.button(\"Submit\")\n",
    "\n",
    "if submit:\n",
    "    st.write(\"You pressed the submit button !!\")\n"
   ]
  },
  {
   "cell_type": "markdown",
   "metadata": {},
   "source": [
    "![sidebar](images/sidebar_submit.png)"
   ]
  },
  {
   "cell_type": "markdown",
   "metadata": {},
   "source": []
  }
 ],
 "metadata": {
  "kernelspec": {
   "display_name": "Python 3.10.8 64-bit",
   "language": "python",
   "name": "python3"
  },
  "language_info": {
   "name": "python",
   "version": "3.10.8"
  },
  "orig_nbformat": 4,
  "vscode": {
   "interpreter": {
    "hash": "19fe0edabfb53868e6f49c2116717f0692ef04c915676379e4ccd863d8119dbc"
   }
  }
 },
 "nbformat": 4,
 "nbformat_minor": 2
}
