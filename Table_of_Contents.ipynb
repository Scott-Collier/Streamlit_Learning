{
 "cells": [
  {
   "cell_type": "markdown",
   "metadata": {},
   "source": [
    "# Understanding Streamlit \n",
    "## Table of Contents\n",
    "\n",
    "| ------------------------ Description ------------------------ | Part |\n",
    "|---|---|\n",
    "| Installing Streamlit | [1](streamlit_learning_part_01.ipynb) |\n",
    "| Check Streamlit vserion | [1](streamlit_learning_part_01.ipynb) |\n",
    "| Creating your first Streamlit App | [1](streamlit_learning_part_01.ipynb) |\n",
    "| Running your StreamLit app | [1](streamlit_learning_part_01.ipynb) |\n",
    "| Streamlit widgets | [1](streamlit_learning_part_01.ipynb) |\n",
    "| Text based widgets | [1](streamlit_learning_part_01.ipynb) |\n",
    "| Input Widgets | [1](streamlit_learning_part_01.ipynb) |\n",
    "| Buttons, Checkboxes, Radio Buttons, Dropdowns | [1](streamlit_learning_part_01.ipynb) |\n",
    "| Sliders | [1](streamlit_learning_part_01.ipynb) |\n",
    "| Number and Text Inputs | [1](streamlit_learning_part_01.ipynb) |\n",
    "| Date / Time selectors | [1](streamlit_learning_part_01.ipynb) |\n",
    "| Selecting Files | [1](streamlit_learning_part_01.ipynb) |\n",
    "| Choosing colours | [1](streamlit_learning_part_01.ipynb) |\n",
    "| A Small Program | [1](streamlit_learning_part_01.ipynb) |\n",
    "\n",
    "\n",
    "<br>\n",
    "\n",
    "\n",
    "| ------------------------ Description ------------------------ | Part |\n",
    "|---|---|\n",
    "| Part 2 | [2](streamlit_learning_part_02.ipynb) |"
   ]
  },
  {
   "cell_type": "markdown",
   "metadata": {},
   "source": []
  }
 ],
 "metadata": {
  "kernelspec": {
   "display_name": "Python 3.10.8 64-bit",
   "language": "python",
   "name": "python3"
  },
  "language_info": {
   "name": "python",
   "version": "3.10.8"
  },
  "orig_nbformat": 4,
  "vscode": {
   "interpreter": {
    "hash": "19fe0edabfb53868e6f49c2116717f0692ef04c915676379e4ccd863d8119dbc"
   }
  }
 },
 "nbformat": 4,
 "nbformat_minor": 2
}
