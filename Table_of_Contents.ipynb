{
 "cells": [
  {
   "cell_type": "markdown",
   "metadata": {},
   "source": [
    "# Understanding Streamlit \n",
    "## Table of Contents\n",
    "\n",
    "| ------------------------ Description ------------------------ | Part |\n",
    "|---|---|\n",
    "| Installing Streamlit | 1 |\n",
    "| Check Streamlit vserion | 1 |\n",
    "| Creating your first Streamlit App | 1 |\n",
    "| Running your StreamLit app | 1 |\n",
    "| Streamlit widgets | 1 |\n",
    "| Text based widgets | 1 |\n",
    "| Input Widgets | 1 |\n",
    "| Buttons, Checkboxes, Radio Buttons, Dropdowns | 1 |\n",
    "| Sliders | 1 |\n",
    "| Number and Text Inputs | 1 |\n",
    "| Date / Time selectors | 1 |\n",
    "| Selecting Files | 1 |\n",
    "| Choosing colours | 1 |\n",
    "| A Small Program | 1 |\n",
    "\n",
    "<br>\n",
    "\n",
    "| ------------------------ Description ------------------------ | Part |\n",
    "|---|---|"
   ]
  },
  {
   "cell_type": "markdown",
   "metadata": {},
   "source": []
  }
 ],
 "metadata": {
  "kernelspec": {
   "display_name": "Python 3.10.8 64-bit",
   "language": "python",
   "name": "python3"
  },
  "language_info": {
   "name": "python",
   "version": "3.10.8"
  },
  "orig_nbformat": 4,
  "vscode": {
   "interpreter": {
    "hash": "19fe0edabfb53868e6f49c2116717f0692ef04c915676379e4ccd863d8119dbc"
   }
  }
 },
 "nbformat": 4,
 "nbformat_minor": 2
}
